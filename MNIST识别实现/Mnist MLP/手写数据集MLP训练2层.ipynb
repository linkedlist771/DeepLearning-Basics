{
 "cells": [
  {
   "cell_type": "markdown",
   "source": [
    "# 导入需要的库"
   ],
   "metadata": {
    "collapsed": false
   }
  },
  {
   "cell_type": "code",
   "execution_count": 1,
   "outputs": [],
   "source": [
    "import numpy as np\n",
    "import functions as f\n",
    "from gradient import numerical_gradient\n",
    "from collections import OrderedDict\n",
    "from layers import *\n",
    "import pickle\n",
    "import struct\n",
    "import matplotlib.pyplot as plt"
   ],
   "metadata": {
    "collapsed": false
   }
  },
  {
   "cell_type": "markdown",
   "source": [
    "# 定义读取数据集的函数"
   ],
   "metadata": {
    "collapsed": false
   }
  },
  {
   "cell_type": "code",
   "execution_count": 2,
   "outputs": [],
   "source": [
    "\n",
    "def load_mnist_data(kind):\n",
    "    '''\n",
    "    加载数据集\n",
    "    :param kind: 加载训练数据还是测试数据\n",
    "    :return: 打平之后的数据和one hot编码的标签\n",
    "    '''\n",
    "    labels_path = '../data/%s-labels-idx1-ubyte' % kind\n",
    "    images_path = '../data/%s-images-idx3-ubyte' % kind\n",
    "    with open(labels_path, 'rb') as lbpath:\n",
    "        struct.unpack('>II', lbpath.read(8))\n",
    "        labels = np.fromfile(lbpath, dtype=np.uint8)\n",
    "    with open(images_path, 'rb') as imgpath:\n",
    "        struct.unpack('>IIII', imgpath.read(16))\n",
    "        images = np.fromfile(imgpath, dtype=np.uint8).reshape(len(labels), 784)\n",
    "\n",
    "    return images / 255., np.eye(10)[labels]"
   ],
   "metadata": {
    "collapsed": false
   }
  },
  {
   "cell_type": "markdown",
   "source": [
    "# 定义神经网络架构"
   ],
   "metadata": {
    "collapsed": false
   }
  },
  {
   "cell_type": "code",
   "execution_count": 47,
   "outputs": [
    {
     "name": "stdout",
     "output_type": "stream",
     "text": [
      "Weight has been loaded!\n"
     ]
    }
   ],
   "source": [
    "\n",
    "class TwoLayerNet:\n",
    "\n",
    "    def __init__(self, input_size, hidden_size, output_size, weight_init_std = 0.01):\n",
    "        # 初始化权重\n",
    "        self.params = dict()\n",
    "        self.params['W1'] = weight_init_std * np.random.randn(input_size, hidden_size)\n",
    "        self.params['b1'] = np.zeros(hidden_size)\n",
    "        self.params['W2'] = weight_init_std * np.random.randn(hidden_size, output_size)\n",
    "        self.params['b2'] = np.zeros(output_size)\n",
    "\n",
    "        # 生成层\n",
    "        self.layers = OrderedDict()\n",
    "        self.layers['Affine1'] = Affine(self.params['W1'], self.params['b1'])\n",
    "        #self.layers['Relu1'] = Relu()\n",
    "        self.layers['Sigmoid1'] = Sigmoid()\n",
    "        self.layers['Affine2'] = Affine(self.params['W2'], self.params['b2'])\n",
    "\n",
    "        self.lastLayer = SoftmaxWithLoss()\n",
    "        #self.lastLayer = IdentityWithLoss()\n",
    "\n",
    "    def predict(self, x):\n",
    "        for layer in self.layers.values():\n",
    "            x = layer.forward(x)\n",
    "\n",
    "        return x\n",
    "\n",
    "    # x:输入数据, t:监督数据\n",
    "    def loss(self, x, t):\n",
    "        y = self.predict(x)\n",
    "        return self.lastLayer.forward(y, t)\n",
    "\n",
    "    def accuracy(self, x, t):\n",
    "        y = self.predict(x)\n",
    "        y = np.argmax(y, axis=1)\n",
    "        if t.ndim != 1 : t = np.argmax(t, axis=1)\n",
    "\n",
    "        accuracy = np.sum(y == t) / float(x.shape[0])\n",
    "        return accuracy\n",
    "\n",
    "    # x:输入数据, t:监督数据\n",
    "    def numerical_gradient(self, x, t):\n",
    "        loss_W = lambda W: self.loss(x, t)\n",
    "\n",
    "        grads = {}\n",
    "        grads['W1'] = numerical_gradient(loss_W, self.params['W1'])\n",
    "        grads['b1'] = numerical_gradient(loss_W, self.params['b1'])\n",
    "        grads['W2'] = numerical_gradient(loss_W, self.params['W2'])\n",
    "        grads['b2'] = numerical_gradient(loss_W, self.params['b2'])\n",
    "\n",
    "        return grads\n",
    "\n",
    "    def gradient(self, x, t):\n",
    "        # forward\n",
    "        self.loss(x, t)\n",
    "\n",
    "        # backward\n",
    "        dout = 1\n",
    "        dout = self.lastLayer.backward(dout)\n",
    "\n",
    "        layers = list(self.layers.values())\n",
    "        layers.reverse()\n",
    "        for layer in layers:\n",
    "            dout = layer.backward(dout)\n",
    "\n",
    "        # 设定\n",
    "        grads = {}\n",
    "        grads['W1'], grads['b1'] = self.layers['Affine1'].dW, self.layers['Affine1'].db\n",
    "        grads['W2'], grads['b2'] = self.layers['Affine2'].dW, self.layers['Affine2'].db\n",
    "\n",
    "        return grads\n",
    "\n",
    "    # 保存权重文件\n",
    "    def save(self,path):\n",
    "        with open(path,'wb') as f :\n",
    "            pickle.dump(self.params, f)\n",
    "\n",
    "    # 导入权重文件\n",
    "    def load(self,path):\n",
    "        with open(path,'rb') as f :\n",
    "            self.params = pickle.load(f)\n",
    "            self.layers['Affine1'] = Affine(self.params['W1'], self.params['b1'])\n",
    "            #self.layers['Relu1'] = Relu()\n",
    "            self.layers['Sigmoid1'] = Sigmoid()\n",
    "            self.layers['Affine2'] = Affine(self.params['W2'], self.params['b2'])\n",
    "\n",
    "    print(\"Weight has been loaded!\")\n",
    "        #print(weight)\n",
    "\n"
   ],
   "metadata": {
    "collapsed": false
   }
  },
  {
   "cell_type": "markdown",
   "source": [
    "# 导入训练集和测试集"
   ],
   "metadata": {
    "collapsed": false
   }
  },
  {
   "cell_type": "code",
   "execution_count": 4,
   "outputs": [],
   "source": [
    "train_images, train_labels = load_mnist_data(kind='train')\n",
    "train_images = np.reshape(train_images, newshape=(-1, 1, 784))\n",
    "test_images, test_labels = load_mnist_data('t10k')\n",
    "test_images = np.reshape(test_images, newshape=(-1, 1, 784))"
   ],
   "metadata": {
    "collapsed": false
   }
  },
  {
   "cell_type": "code",
   "execution_count": 5,
   "outputs": [],
   "source": [
    "training_set_size = len(train_images)\n",
    "testing_set_size = len(test_images)"
   ],
   "metadata": {
    "collapsed": false
   }
  },
  {
   "cell_type": "code",
   "execution_count": 6,
   "metadata": {},
   "outputs": [
    {
     "name": "stdout",
     "output_type": "stream",
     "text": [
      "W1:6.845633989410145e-11\n",
      "b1:2.0751083676095328e-10\n",
      "W2:1.1809442230326356e-08\n",
      "b2:2.3594813608994458e-08\n"
     ]
    }
   ],
   "source": [
    "## check gradient\n",
    "\n",
    "network = TwoLayerNet(input_size=784, hidden_size=50, output_size=10)\n",
    "mini_batch_size = 100\n",
    "\n",
    "grad_numerical = network.numerical_gradient(train_images[:mini_batch_size], train_labels[:mini_batch_size])\n",
    "grad_backprop = network.gradient(train_images[:mini_batch_size], train_labels[:mini_batch_size])\n",
    "\n",
    "\n",
    "for key in grad_numerical.keys():\n",
    "    diff = np.average( np.abs(grad_backprop[key] - grad_numerical[key]) )\n",
    "    print(key + \":\" + str(diff))"
   ]
  },
  {
   "cell_type": "code",
   "execution_count": 57,
   "metadata": {},
   "outputs": [
    {
     "name": "stdout",
     "output_type": "stream",
     "text": [
      "epoch: , train loss, test loss , accuracy |, 89.27000000000001%\n",
      "Weight has been saved !!\n",
      "epoch: 0, train loss, test loss , accuracy |0.40286418417175096 , 0.34811251459967296, 89.27000000000001%\n",
      "Weight has been saved !!\n",
      "epoch: 10, train loss, test loss , accuracy |0.44070368358283313 , 0.348072451859691, 89.3%\n",
      "Weight has been saved !!\n",
      "epoch: 20, train loss, test loss , accuracy |0.33559524374910044 , 0.34806169142657156, 89.32%\n",
      "Weight has been saved !!\n",
      "epoch: 30, train loss, test loss , accuracy |0.29523937996132893 , 0.34803249762450295, 89.3%\n",
      "Weight has been saved !!\n",
      "epoch: 40, train loss, test loss , accuracy |0.32109155136334055 , 0.34801913514205507, 89.31%\n",
      "Weight has been saved !!\n",
      "epoch: 50, train loss, test loss , accuracy |0.3407923984896475 , 0.3480404596678307, 89.32%\n",
      "Weight has been saved !!\n",
      "epoch: 60, train loss, test loss , accuracy |0.41342615680491757 , 0.3480256870555344, 89.3%\n",
      "Weight has been saved !!\n",
      "epoch: 70, train loss, test loss , accuracy |0.3065611310577806 , 0.34801629925490996, 89.32%\n",
      "Weight has been saved !!\n",
      "epoch: 80, train loss, test loss , accuracy |0.22243474751018621 , 0.3480204417115981, 89.31%\n",
      "Weight has been saved !!\n",
      "epoch: 90, train loss, test loss , accuracy |0.2988981752654972 , 0.34797910199237847, 89.31%\n",
      "Weight has been saved !!\n",
      "epoch: 100, train loss, test loss , accuracy |0.4012917645452315 , 0.34793924420968575, 89.32%\n",
      "Weight has been saved !!\n",
      "epoch: 110, train loss, test loss , accuracy |0.34272250493224515 , 0.3479070054807039, 89.33%\n",
      "Weight has been saved !!\n",
      "epoch: 120, train loss, test loss , accuracy |0.3993328173278401 , 0.3478988846308946, 89.31%\n",
      "Weight has been saved !!\n",
      "epoch: 130, train loss, test loss , accuracy |0.24401368812895724 , 0.34790545522202004, 89.31%\n",
      "Weight has been saved !!\n",
      "epoch: 140, train loss, test loss , accuracy |0.2319166552841424 , 0.3479203534489694, 89.25999999999999%\n",
      "Weight has been saved !!\n",
      "epoch: 150, train loss, test loss , accuracy |0.5624710054732842 , 0.34787275797533673, 89.27000000000001%\n",
      "Weight has been saved !!\n",
      "epoch: 160, train loss, test loss , accuracy |0.34628705000561666 , 0.3478572163606799, 89.29%\n",
      "Weight has been saved !!\n",
      "epoch: 170, train loss, test loss , accuracy |0.42756714810755253 , 0.3477782396452531, 89.27000000000001%\n",
      "Weight has been saved !!\n",
      "epoch: 180, train loss, test loss , accuracy |0.3851196790848257 , 0.3477609601650393, 89.32%\n",
      "Weight has been saved !!\n",
      "epoch: 190, train loss, test loss , accuracy |0.32823867991119404 , 0.3478012100186152, 89.3%\n",
      "Weight has been saved !!\n",
      "epoch: 200, train loss, test loss , accuracy |0.4360323205113216 , 0.3478436374423958, 89.29%\n",
      "Weight has been saved !!\n",
      "epoch: 210, train loss, test loss , accuracy |0.31166475331839594 , 0.34784055736270086, 89.31%\n",
      "Weight has been saved !!\n",
      "epoch: 220, train loss, test loss , accuracy |0.35828721481121784 , 0.347869181279186, 89.34%\n",
      "Weight has been saved !!\n",
      "epoch: 230, train loss, test loss , accuracy |0.2169363123598404 , 0.347884463020555, 89.35%\n",
      "Weight has been saved !!\n",
      "epoch: 240, train loss, test loss , accuracy |0.32946760282192133 , 0.3477868608710697, 89.35%\n",
      "Weight has been saved !!\n",
      "epoch: 250, train loss, test loss , accuracy |0.2653204543678645 , 0.34773794180172896, 89.33%\n",
      "Weight has been saved !!\n",
      "epoch: 260, train loss, test loss , accuracy |0.2708575184693087 , 0.3476637151404275, 89.33%\n",
      "Weight has been saved !!\n",
      "epoch: 270, train loss, test loss , accuracy |0.41079471147292124 , 0.347604319955713, 89.33%\n",
      "Weight has been saved !!\n",
      "epoch: 280, train loss, test loss , accuracy |0.27601511178541666 , 0.34754346261231883, 89.37%\n",
      "Weight has been saved !!\n",
      "epoch: 290, train loss, test loss , accuracy |0.32439400851512706 , 0.34752729404236804, 89.36%\n",
      "Weight has been saved !!\n",
      "epoch: 300, train loss, test loss , accuracy |0.19731147146941058 , 0.3475203889098931, 89.4%\n",
      "Weight has been saved !!\n",
      "epoch: 310, train loss, test loss , accuracy |0.4647664926784999 , 0.3474565220552399, 89.38000000000001%\n",
      "Weight has been saved !!\n",
      "epoch: 320, train loss, test loss , accuracy |0.47714897877464746 , 0.3474937909185859, 89.37%\n",
      "Weight has been saved !!\n",
      "epoch: 330, train loss, test loss , accuracy |0.1960309604715573 , 0.3474196806410522, 89.4%\n",
      "Weight has been saved !!\n",
      "epoch: 340, train loss, test loss , accuracy |0.2604086517527406 , 0.3474679957633797, 89.37%\n",
      "Weight has been saved !!\n",
      "epoch: 350, train loss, test loss , accuracy |0.36244288763952637 , 0.34746020980114506, 89.36%\n",
      "Weight has been saved !!\n",
      "epoch: 360, train loss, test loss , accuracy |0.38434482299868766 , 0.34758313592168705, 89.34%\n",
      "Weight has been saved !!\n",
      "epoch: 370, train loss, test loss , accuracy |0.434316183754135 , 0.34754824302222065, 89.35%\n",
      "Weight has been saved !!\n",
      "epoch: 380, train loss, test loss , accuracy |0.46372303542717236 , 0.347599065419873, 89.37%\n",
      "Weight has been saved !!\n",
      "epoch: 390, train loss, test loss , accuracy |0.22186095236217052 , 0.34755080787383386, 89.33%\n",
      "Weight has been saved !!\n",
      "epoch: 400, train loss, test loss , accuracy |0.33276484348427116 , 0.347549118766198, 89.34%\n",
      "Weight has been saved !!\n",
      "epoch: 410, train loss, test loss , accuracy |0.2884778936982218 , 0.34753893131887986, 89.33%\n",
      "Weight has been saved !!\n",
      "epoch: 420, train loss, test loss , accuracy |0.4548504932718295 , 0.34750787433201097, 89.37%\n",
      "Weight has been saved !!\n"
     ]
    },
    {
     "ename": "KeyboardInterrupt",
     "evalue": "",
     "output_type": "error",
     "traceback": [
      "\u001B[1;31m---------------------------------------------------------------------------\u001B[0m",
      "\u001B[1;31mKeyboardInterrupt\u001B[0m                         Traceback (most recent call last)",
      "Input \u001B[1;32mIn [57]\u001B[0m, in \u001B[0;36m<cell line: 19>\u001B[1;34m()\u001B[0m\n\u001B[0;32m     33\u001B[0m train_loss_list\u001B[38;5;241m.\u001B[39mappend(loss)\n\u001B[0;32m     34\u001B[0m loss_test \u001B[38;5;241m=\u001B[39m network\u001B[38;5;241m.\u001B[39mloss(test_images, test_labels)\n\u001B[1;32m---> 35\u001B[0m accuracy \u001B[38;5;241m=\u001B[39m np\u001B[38;5;241m.\u001B[39msum(\u001B[43mnetwork\u001B[49m\u001B[38;5;241;43m.\u001B[39;49m\u001B[43mpredict\u001B[49m\u001B[43m(\u001B[49m\u001B[43mtest_images\u001B[49m\u001B[43m)\u001B[49m\u001B[38;5;241m.\u001B[39margmax(\u001B[38;5;241m1\u001B[39m) \u001B[38;5;241m==\u001B[39m test_labels\u001B[38;5;241m.\u001B[39margmax(\u001B[38;5;241m1\u001B[39m))\u001B[38;5;241m/\u001B[39mtesting_set_size\n\u001B[0;32m     36\u001B[0m test_loss_list\u001B[38;5;241m.\u001B[39mappend(loss_test)\n\u001B[0;32m     38\u001B[0m \u001B[38;5;66;03m#if i % iter_per_epoch == 0:\u001B[39;00m\n",
      "Input \u001B[1;32mIn [47]\u001B[0m, in \u001B[0;36mTwoLayerNet.predict\u001B[1;34m(self, x)\u001B[0m\n\u001B[0;32m     21\u001B[0m \u001B[38;5;28;01mdef\u001B[39;00m \u001B[38;5;21mpredict\u001B[39m(\u001B[38;5;28mself\u001B[39m, x):\n\u001B[0;32m     22\u001B[0m     \u001B[38;5;28;01mfor\u001B[39;00m layer \u001B[38;5;129;01min\u001B[39;00m \u001B[38;5;28mself\u001B[39m\u001B[38;5;241m.\u001B[39mlayers\u001B[38;5;241m.\u001B[39mvalues():\n\u001B[1;32m---> 23\u001B[0m         x \u001B[38;5;241m=\u001B[39m \u001B[43mlayer\u001B[49m\u001B[38;5;241;43m.\u001B[39;49m\u001B[43mforward\u001B[49m\u001B[43m(\u001B[49m\u001B[43mx\u001B[49m\u001B[43m)\u001B[49m\n\u001B[0;32m     25\u001B[0m     \u001B[38;5;28;01mreturn\u001B[39;00m x\n",
      "File \u001B[1;32mE:\\桌面\\深度学习数学基础\\DeepLearning-Basics\\MNIST识别实现\\Mnist MLP\\layers.py:29\u001B[0m, in \u001B[0;36mSigmoid.forward\u001B[1;34m(self, x)\u001B[0m\n\u001B[0;32m     28\u001B[0m \u001B[38;5;28;01mdef\u001B[39;00m \u001B[38;5;21mforward\u001B[39m(\u001B[38;5;28mself\u001B[39m, x):\n\u001B[1;32m---> 29\u001B[0m     out \u001B[38;5;241m=\u001B[39m \u001B[43msigmoid\u001B[49m\u001B[43m(\u001B[49m\u001B[43mx\u001B[49m\u001B[43m)\u001B[49m\n\u001B[0;32m     30\u001B[0m     \u001B[38;5;28mself\u001B[39m\u001B[38;5;241m.\u001B[39mout \u001B[38;5;241m=\u001B[39m out\n\u001B[0;32m     31\u001B[0m     \u001B[38;5;28;01mreturn\u001B[39;00m out\n",
      "File \u001B[1;32mE:\\桌面\\深度学习数学基础\\DeepLearning-Basics\\MNIST识别实现\\Mnist MLP\\functions.py:14\u001B[0m, in \u001B[0;36msigmoid\u001B[1;34m(x)\u001B[0m\n\u001B[0;32m     13\u001B[0m \u001B[38;5;28;01mdef\u001B[39;00m \u001B[38;5;21msigmoid\u001B[39m(x):\n\u001B[1;32m---> 14\u001B[0m     \u001B[38;5;28;01mreturn\u001B[39;00m \u001B[38;5;241m1\u001B[39m \u001B[38;5;241m/\u001B[39m (\u001B[38;5;241m1\u001B[39m \u001B[38;5;241m+\u001B[39m \u001B[43mnp\u001B[49m\u001B[38;5;241;43m.\u001B[39;49m\u001B[43mexp\u001B[49m\u001B[43m(\u001B[49m\u001B[38;5;241;43m-\u001B[39;49m\u001B[43mx\u001B[49m\u001B[43m)\u001B[49m)\n",
      "\u001B[1;31mKeyboardInterrupt\u001B[0m: "
     ]
    }
   ],
   "source": [
    "network = TwoLayerNet(input_size=784, hidden_size=128, output_size=10, weight_init_std = 4*np.sqrt(2.0 / (1+50)))\n",
    "weight_save_path  = \"weight.pickle\"\n",
    "iters_num = 100000  # 适当设定循环的次数\n",
    "train_size = train_images.shape[0]\n",
    "batch_size = 128\n",
    "learning_rate = 1e-2\n",
    "train_loss_list = []\n",
    "test_loss_list = []\n",
    "iter_per_epoch = max(train_size / batch_size, 1)\n",
    "iter_num = 10\n",
    "load_weight = True\n",
    "train_net = True\n",
    "if load_weight:\n",
    "    network.load(weight_save_path)\n",
    "if True:\n",
    "    accuracy = np.sum(network.predict(test_images).argmax(1) == test_labels.argmax(1))/testing_set_size\n",
    "    print(f\"epoch: , train loss, test loss , accuracy |, {accuracy*100}%\")\n",
    "    print(\"Weight has been saved !!\")\n",
    "if train_net:\n",
    "    for i in range(iters_num):\n",
    "        batch_mask = np.random.choice(train_size, batch_size)\n",
    "        x_batch = train_images[batch_mask]\n",
    "        y_batch = train_labels[batch_mask]\n",
    "\n",
    "        # 计算梯度\n",
    "        #grad = network.numerical_gradient(x_batch, y_batch)\n",
    "        grad = network.gradient(x_batch, y_batch)\n",
    "        # 更新参数\n",
    "        for key in ('W1', 'b1', 'W2', 'b2'):\n",
    "            network.params[key] -= learning_rate * grad[key]\n",
    "\n",
    "        loss = network.loss(x_batch, y_batch)\n",
    "        train_loss_list.append(loss)\n",
    "        loss_test = network.loss(test_images, test_labels)\n",
    "        accuracy = np.sum(network.predict(test_images).argmax(1) == test_labels.argmax(1))/testing_set_size\n",
    "        test_loss_list.append(loss_test)\n",
    "\n",
    "        #if i % iter_per_epoch == 0:\n",
    "        if i % iter_num == 0:\n",
    "            print(f\"epoch: {i}, train loss, test loss , accuracy |{loss} , {loss_test}, {accuracy*100}%\")\n",
    "            network.save(weight_save_path)\n",
    "            print(\"Weight has been saved !!\")"
   ]
  },
  {
   "cell_type": "code",
   "execution_count": null,
   "outputs": [],
   "source": [],
   "metadata": {
    "collapsed": false
   }
  },
  {
   "cell_type": "code",
   "execution_count": 15,
   "metadata": {},
   "outputs": [
    {
     "name": "stderr",
     "output_type": "stream",
     "text": [
      "E:\\桌面\\深度学习数学基础\\DeepLearning-Basics\\MLP\\Solution Given by teacher\\functions.py:14: RuntimeWarning: overflow encountered in exp\n",
      "  return 1 / (1 + np.exp(-x))\n"
     ]
    },
    {
     "data": {
      "text/plain": "<Figure size 432x288 with 2 Axes>",
      "image/png": "[encoded data removed]"
     },
     "metadata": {
      "needs_background": "light"
     },
     "output_type": "display_data"
    }
   ],
   "source": [
    "# 绘制图形\n",
    "x_test =  np.arange(0, 20, 0.005).reshape(-1,1)\n",
    "y_test = object_fun(x_test)\n",
    "y_predict = network.predict(x_test)\n",
    "\n",
    "fig,axs = plt.subplots(1,2)\n",
    "axs = axs.reshape(-1)\n",
    "\n",
    "axs[0].plot(x_test,y_test,'b',linewidth=2)\n",
    "axs[0].plot(x_test,y_predict,':r',linewidth=2)\n",
    "\n",
    "axs[1].semilogy(train_loss_list,color='k',linewidth=1)\n",
    "axs[1].semilogy(test_loss_list,color='r',linewidth=1)\n",
    "\n",
    "plt.show()"
   ]
  },
  {
   "cell_type": "code",
   "execution_count": null,
   "metadata": {},
   "outputs": [],
   "source": []
  }
 ],
 "metadata": {
  "kernelspec": {
   "display_name": "Python 3.9.7 ('pytorch')",
   "language": "python",
   "name": "python3"
  },
  "language_info": {
   "codemirror_mode": {
    "name": "ipython",
    "version": 3
   },
   "file_extension": ".py",
   "mimetype": "text/x-python",
   "name": "python",
   "nbconvert_exporter": "python",
   "pygments_lexer": "ipython3",
   "version": "3.9.7"
  },
  "vscode": {
   "interpreter": {
    "hash": "ae51ee3d492f24e83e77a52eb34bf16365894f8747390aa8e17995579dedf394"
   }
  }
 },
 "nbformat": 4,
 "nbformat_minor": 2
}
